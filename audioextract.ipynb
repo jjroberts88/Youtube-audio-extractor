{
 "cells": [
  {
   "cell_type": "code",
   "execution_count": 7,
   "metadata": {},
   "outputs": [
    {
     "name": "stdout",
     "output_type": "stream",
     "text": [
      "[youtube] Extracting URL: https://www.youtube.com/watch?v=I9MZNEXrElw\n",
      "[youtube] Extracting URL: https://www.youtube.com/watch?v=w6CX_atYwus\n",
      "[youtube] I9MZNEXrElw: Downloading webpage\n",
      "[youtube] w6CX_atYwus: Downloading webpage\n",
      "[youtube] w6CX_atYwus: Downloading android player API JSON\n",
      "[youtube] I9MZNEXrElw: Downloading android player API JSON\n",
      "[info] I9MZNEXrElw: Downloading 1 format(s): 251\n",
      "[info] w6CX_atYwus: Downloading 1 format(s): 251\n",
      "[dashsegments] Total fragments: 1\n",
      "[dashsegments] Total fragments: 1\n",
      "[download] Destination: We Like The Moon [I9MZNEXrElw].webm\n",
      "[download] Destination: Sesame Street： Elmo's Ducks Lyric Video ｜ Elmo's Sing Along Series [w6CX_atYwus].webm\n",
      "[download] 100% of    1.19MiB in 00:00:00 at 2.02MiB/s               \n",
      "[download] 100% of    2.41MiB in 00:00:00 at 2.78MiB/s               \n",
      "[ExtractAudio] Destination: We Like The Moon [I9MZNEXrElw].mp3\n",
      "[ExtractAudio] Destination: Sesame Street： Elmo's Ducks Lyric Video ｜ Elmo's Sing Along Series [w6CX_atYwus].mp3\n",
      "Deleting original file We Like The Moon [I9MZNEXrElw].webm (pass -k to keep)\n",
      "Downloaded We Like The Moon [I9MZNEXrElw].webm\n",
      "Deleting original file Sesame Street： Elmo's Ducks Lyric Video ｜ Elmo's Sing Along Series [w6CX_atYwus].webm (pass -k to keep)\n",
      "Downloaded Sesame Street： Elmo's Ducks Lyric Video ｜ Elmo's Sing Along Series [w6CX_atYwus].webm\n"
     ]
    }
   ],
   "source": [
    "import yt_dlp\n",
    "import concurrent.futures\n",
    "\n",
    "ydl_opts = {\n",
    "    'format': 'bestaudio/best',\n",
    "    'postprocessors': [{\n",
    "        'key': 'FFmpegExtractAudio',\n",
    "        'preferredcodec': 'mp3',\n",
    "        'preferredquality': '192'\n",
    "    }]\n",
    "}\n",
    "ydl = yt_dlp.YoutubeDL(ydl_opts)\n",
    "\n",
    "# List of video URLs\n",
    "url_list = [\n",
    "    \n",
    "    'https://www.youtube.com/watch?v=I9MZNEXrElw',\n",
    "    'https://www.youtube.com/watch?v=w6CX_atYwus'\n",
    "\n",
    "    \n",
    "\n",
    "]\n",
    "\n",
    "def download_audio(url):\n",
    "    info_dict = ydl.extract_info(url, download=True)\n",
    "    \n",
    "    filename = ydl.prepare_filename(info_dict)\n",
    "    \n",
    "    print(f\"Downloaded {filename}\")\n",
    "\n",
    "with concurrent.futures.ThreadPoolExecutor(max_workers=10) as executor:\n",
    "    executor.map(download_audio, url_list)\n"
   ]
  }
 ],
 "metadata": {
  "kernelspec": {
   "display_name": "Python 3.8.16 64-bit",
   "language": "python",
   "name": "python3"
  },
  "language_info": {
   "codemirror_mode": {
    "name": "ipython",
    "version": 3
   },
   "file_extension": ".py",
   "mimetype": "text/x-python",
   "name": "python",
   "nbconvert_exporter": "python",
   "pygments_lexer": "ipython3",
   "version": "3.8.16"
  },
  "orig_nbformat": 4,
  "vscode": {
   "interpreter": {
    "hash": "949777d72b0d2535278d3dc13498b2535136f6dfe0678499012e853ee9abcab1"
   }
  }
 },
 "nbformat": 4,
 "nbformat_minor": 2
}
